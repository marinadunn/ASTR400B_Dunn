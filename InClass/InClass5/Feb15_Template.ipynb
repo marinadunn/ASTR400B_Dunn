{
 "cells": [
  {
   "cell_type": "code",
   "execution_count": 3,
   "metadata": {
    "collapsed": true
   },
   "outputs": [],
   "source": [
    "# In Class Lab 5\n",
    "# Feb 15 2018"
   ]
  },
  {
   "cell_type": "code",
   "execution_count": 4,
   "metadata": {},
   "outputs": [
    {
     "ename": "ImportError",
     "evalue": "No module named CenterOfMass",
     "output_type": "error",
     "traceback": [
      "\u001b[0;31m---------------------------------------------------------------------------\u001b[0m",
      "\u001b[0;31mImportError\u001b[0m                               Traceback (most recent call last)",
      "\u001b[0;32m<ipython-input-4-ffe3a37263b8>\u001b[0m in \u001b[0;36m<module>\u001b[0;34m()\u001b[0m\n\u001b[1;32m     12\u001b[0m \u001b[0;31m# my modules\u001b[0m\u001b[0;34m\u001b[0m\u001b[0;34m\u001b[0m\u001b[0m\n\u001b[1;32m     13\u001b[0m \u001b[0;32mfrom\u001b[0m \u001b[0mReadFile\u001b[0m \u001b[0;32mimport\u001b[0m \u001b[0mRead\u001b[0m\u001b[0;34m\u001b[0m\u001b[0m\n\u001b[0;32m---> 14\u001b[0;31m \u001b[0;32mfrom\u001b[0m \u001b[0mCenterOfMass\u001b[0m \u001b[0;32mimport\u001b[0m \u001b[0mCenterOfMass\u001b[0m\u001b[0;34m\u001b[0m\u001b[0m\n\u001b[0m\u001b[1;32m     15\u001b[0m \u001b[0;32mfrom\u001b[0m \u001b[0mMassProfile\u001b[0m \u001b[0;32mimport\u001b[0m \u001b[0mMassProfile\u001b[0m\u001b[0;34m\u001b[0m\u001b[0m\n\u001b[1;32m     16\u001b[0m \u001b[0;34m\u001b[0m\u001b[0m\n",
      "\u001b[0;31mImportError\u001b[0m: No module named CenterOfMass"
     ]
    }
   ],
   "source": [
    "# import modules\n",
    "import numpy as np\n",
    "import astropy.units as u\n",
    "from astropy.constants import G\n",
    "\n",
    "# import plotting modules\n",
    "import matplotlib\n",
    "import matplotlib.pyplot as plt\n",
    "from matplotlib.colors import LogNorm\n",
    "%matplotlib inline\n",
    "\n",
    "# my modules\n",
    "from ReadFile import Read\n",
    "from CenterOfMass import CenterOfMass\n",
    "from MassProfile import MassProfile\n",
    "\n",
    "# yt \n",
    "import yt\n",
    "from yt.units import kiloparsec, Msun, Gyr"
   ]
  },
  {
   "cell_type": "code",
   "execution_count": null,
   "metadata": {
    "collapsed": true
   },
   "outputs": [],
   "source": [
    "# Create a COM of object for MW Disk Using Code from Assignment 4\n",
    "# using highest res files - HR\n",
    "\n",
    "COMD = CenterOfMass(\"MW_HR_000.txt\",2)"
   ]
  },
  {
   "cell_type": "code",
   "execution_count": null,
   "metadata": {
    "collapsed": true
   },
   "outputs": [],
   "source": [
    "# Compute COM of MW using disk particles\n",
    "COMP = COMD.COM_P(0.1, 4.0)\n",
    "# In assignment 6 you are asked to modify the CenterOfMass.py file so that \n",
    "# in addition to a 'delta' (tolerance) there is also a volume decrement value.  \n",
    "# dividing the volume by 4.0 actually works better than dividing by half (RMAX/4 instead)\n",
    "\n",
    "# store COM Velocity\n",
    "COMV = COMD.COM_V(COMP[0],COMP[1],COMP[2])"
   ]
  },
  {
   "cell_type": "markdown",
   "metadata": {},
   "source": [
    "## (PART 1) Edit Below:  \n",
    "### Define the remaining data properties: yD, zD, vxD, vyD, vzD "
   ]
  },
  {
   "cell_type": "code",
   "execution_count": 5,
   "metadata": {},
   "outputs": [
    {
     "ename": "NameError",
     "evalue": "name 'COMD' is not defined",
     "output_type": "error",
     "traceback": [
      "\u001b[0;31m---------------------------------------------------------------------------\u001b[0m",
      "\u001b[0;31mNameError\u001b[0m                                 Traceback (most recent call last)",
      "\u001b[0;32m<ipython-input-5-153742802027>\u001b[0m in \u001b[0;36m<module>\u001b[0;34m()\u001b[0m\n\u001b[1;32m      1\u001b[0m \u001b[0;31m# Determine positions and velocities of disk particles relative to COM motion\u001b[0m\u001b[0;34m\u001b[0m\u001b[0;34m\u001b[0m\u001b[0m\n\u001b[0;32m----> 2\u001b[0;31m \u001b[0mxD\u001b[0m \u001b[0;34m=\u001b[0m \u001b[0mCOMD\u001b[0m\u001b[0;34m.\u001b[0m\u001b[0mx\u001b[0m\u001b[0;34m\u001b[0m\u001b[0m\n\u001b[0m\u001b[1;32m      3\u001b[0m \u001b[0myD\u001b[0m \u001b[0;34m=\u001b[0m \u001b[0mCOMD\u001b[0m\u001b[0;34m.\u001b[0m\u001b[0my\u001b[0m\u001b[0;34m\u001b[0m\u001b[0m\n\u001b[1;32m      4\u001b[0m \u001b[0mzD\u001b[0m \u001b[0;34m=\u001b[0m \u001b[0mCOMD\u001b[0m\u001b[0;34m.\u001b[0m\u001b[0mz\u001b[0m\u001b[0;34m\u001b[0m\u001b[0m\n\u001b[1;32m      5\u001b[0m \u001b[0;34m\u001b[0m\u001b[0m\n",
      "\u001b[0;31mNameError\u001b[0m: name 'COMD' is not defined"
     ]
    }
   ],
   "source": [
    "# Determine positions and velocities of disk particles relative to COM motion\n",
    "xD = COMD.x\n",
    "yD = COMD.y\n",
    "zD = COMD.z\n",
    "\n",
    "vxD = COMD.vx\n",
    "vyD = COMD.vy\n",
    "vzD = COMD.vz"
   ]
  },
  {
   "cell_type": "markdown",
   "metadata": {},
   "source": [
    "## (PART 2) Edit Below: \n",
    "### What position coordinates should you plot against each other to create a face-on representation of a galaxy's disk? Use the hist2d function in matplotlib to test this. Start with bins=100."
   ]
  },
  {
   "cell_type": "code",
   "execution_count": null,
   "metadata": {
    "collapsed": true
   },
   "outputs": [],
   "source": [
    "# MW Disk Density, face on\n",
    "\n",
    "fig = plt.figure(figsize=(13,10))\n",
    "ax = plt.subplot(111)\n",
    "\n",
    "#### PLACE FUNCTION HERE ####\n",
    "plt.colorbar()\n",
    "\n",
    "# Add axis labels\n",
    "plt.xlabel('? (kpc)', fontsize=22)\n",
    "plt.ylabel('? (kpc)', fontsize=22)\n",
    "\n",
    "#set axis limits\n",
    "plt.ylim(-30,30)\n",
    "plt.xlim(-30,30)\n",
    "\n",
    "#adjust tick label font size\n",
    "label_size = 22\n",
    "matplotlib.rcParams['xtick.labelsize'] = label_size \n",
    "matplotlib.rcParams['ytick.labelsize'] = label_size\n",
    "\n",
    "# Save to a file\n",
    "ax.set_rasterized(True)"
   ]
  },
  {
   "cell_type": "markdown",
   "metadata": {},
   "source": [
    "## (PART 3) Edit above:\n",
    "\n",
    "### 1. Add the norm=LogNorm() argument to the hist2d function (Note: You imported this module at the top of the script). Your colorbar should now show logarithmic units. What does the colorbar represent?\n",
    "\n",
    "### 2. Increase the number of bins used in hist2d to get a higher resolution plot.\n",
    "## ----------------------------------------------------------------------------------------------------------"
   ]
  },
  {
   "cell_type": "markdown",
   "metadata": {},
   "source": [
    " ## (PART 4) Edit Below:\n",
    " \n",
    " ### Now let's make a density plot that shows the edge-on MW disk. Using hist2d again, which position coordinates should you plot against each other to get an edge-on view of the disk? \n",
    " \n",
    " ### Use the code below to create this plot. You'll want to use a similar number of bins and the norm=LogNorm() argument again.\n"
   ]
  },
  {
   "cell_type": "code",
   "execution_count": null,
   "metadata": {
    "collapsed": true
   },
   "outputs": [],
   "source": [
    "# MW Disk Density, edge on\n",
    "\n",
    "fig = plt.figure(figsize=(18,5))\n",
    "ax = plt.subplot(111)\n",
    "\n",
    "#### PLACE FUNCTION HERE ####\n",
    "plt.colorbar()\n",
    "\n",
    "# Add axis labels\n",
    "plt.xlabel('? (kpc)', fontsize=22)\n",
    "plt.ylabel('? (kpc)', fontsize=22)\n",
    "\n",
    "#set axis limits\n",
    "plt.ylim(-3,3)\n",
    "plt.xlim(-30,30)\n",
    "\n",
    "#adjust tick label font size\n",
    "label_size = 22\n",
    "matplotlib.rcParams['xtick.labelsize'] = label_size \n",
    "matplotlib.rcParams['ytick.labelsize'] = label_size\n",
    "\n",
    "\n",
    "# Save to a file\n",
    "ax.set_rasterized(True)"
   ]
  },
  {
   "cell_type": "markdown",
   "metadata": {},
   "source": [
    "You'll see the disk is fairly thin with a scale height < 1 kpc. Notice the X-shape at the center of the disk as well. This is due to the interaction between disk stars and the bar. Bulge particles are not shown here. "
   ]
  },
  {
   "cell_type": "markdown",
   "metadata": {},
   "source": [
    "## (PART 5) Edit Above: \n",
    "\n",
    "### Does the densest part of the MW disk in your face-on and edge-on plots reside at position=(0,0)? Re-center your particles using COMP. You can do this by changing the quantity COMP back to floats by doing the following to all position particles:\n",
    "\n",
    "xD = COMD.x - float(COMP[0]/u.kpc)}\n",
    "\n",
    "### Do the same for velocity using COMV. Be careful with the units.\n",
    "\n",
    "### Recreate the two plots above in the center of mass reference frame.\n",
    "## ----------------------------------------------------------------------------------------------------------"
   ]
  },
  {
   "cell_type": "markdown",
   "metadata": {},
   "source": [
    "# *** OPTIONAL *** \n",
    "\n",
    "### You can change the colorbar used in the hist2d function using the cmap argument. Set cmap to one of the colorbars (i.e. cmap='magma') from this page: https://matplotlib.org/users/colormaps.html\n",
    "\n",
    "### The perceptually uniform sequential color maps are the best options because they are also legible in grayscale.\n",
    "## ----------------------------------------------------------------------------------------------------------"
   ]
  },
  {
   "cell_type": "markdown",
   "metadata": {},
   "source": [
    "## (PART 6) Edit Below:\n",
    "\n",
    "### Now we will create a phase diagram and compare it to the circular velocity assuming spherical symmetry. If you look at the MW's disk along the y-axis, what velocity component will give you the line of sight velocity? Use your intuition from the edge-on disk plot above. \n",
    "\n",
    "### Use hist2d again to plot the y-position of the disk particles against this velocity component. \n",
    "\n",
    "### Compare your plot to the plots in InClass5_Slides.pdf. Does your plot match the observational data?"
   ]
  },
  {
   "cell_type": "code",
   "execution_count": null,
   "metadata": {
    "collapsed": true
   },
   "outputs": [],
   "source": [
    "# MW Disk Velocity Field edge on.\n",
    "\n",
    "fig = plt.figure(figsize=(10,10))\n",
    "ax = plt.subplot(111)\n",
    "\n",
    "# looking at MW edge on along y axis, what is line of sight velocity component?\n",
    "\n",
    "#### PLACE FUNCTION HERE ###\n",
    "plt.colorbar()\n",
    "\n",
    "\n",
    "# Add axis labels\n",
    "plt.xlabel('? (kpc)', fontsize=22)\n",
    "plt.ylabel('Velocity ? (km/s)', fontsize=22)\n",
    "\n",
    "#set axis limits\n",
    "#plt.ylim(0,200)\n",
    "plt.xlim(-30,30)\n",
    "\n",
    "#adjust tick label font size\n",
    "label_size = 22\n",
    "matplotlib.rcParams['xtick.labelsize'] = label_size \n",
    "matplotlib.rcParams['ytick.labelsize'] = label_size\n",
    "\n",
    "\n",
    "# Save to a file\n",
    "ax.set_rasterized(True)"
   ]
  },
  {
   "cell_type": "code",
   "execution_count": null,
   "metadata": {
    "collapsed": true
   },
   "outputs": [],
   "source": [
    "# Create a Mass Profile Object:  Code from Assignment 5\n",
    "MWV = MassProfile(\"MW\",0)\n",
    "# note that since CenterOfMass has been modified to haveVolDec input, \n",
    "# MassProfile.py must be changed to reflect the additional input argument\n",
    "\n",
    "# Input array of radii\n",
    "R = np.arange(0.01,30,0.2)\n",
    "\n",
    "# Store the total circular velocity for later use \n",
    "VCirc = MWV.CircularVelocityTotal(R)"
   ]
  },
  {
   "cell_type": "markdown",
   "metadata": {},
   "source": [
    "## (PART 7) Edit Above:\n",
    "\n",
    "### Now overplot the MW's circular velocity computed with the CircularVelocityTotal() against the radius array. These are already defined as 'VCirc' and 'R' above. \n",
    "\n",
    "### Notice the axis limits of the y-axis above. Hint: If you have an array called X, then -X will multiply the whole array by -1. \n",
    "\n",
    "### How does the phase diagram compare to the spherically averaged circular velocity? Why is there a spread in velocities?\n",
    "\n",
    "## ----------------------------------------------------------------------------------------------------------"
   ]
  },
  {
   "cell_type": "markdown",
   "metadata": {},
   "source": [
    "## (PART 8) Edit Below: \n",
    "\n",
    "### Let's isolate an interesting set of particles and explore their origin. This may be helpful to many of your for your final projects. For example, where do the particles with the highest speeds reside and why do they have such high speeds?\n",
    "\n",
    "### 1. Create a velocity mask that selects all particles from the plot above that have a velocity of 250 km/s or higher. Note that these velocities can be positive or negative.\n",
    "\n",
    "### 2. Using the plotting code above, create an edge-on plot of just these disk particles. How did these disk stars arrive at this position?\n",
    "## ----------------------------------------------------------------------------------------------------------"
   ]
  },
  {
   "cell_type": "markdown",
   "metadata": {},
   "source": [
    "# *** OPTIONAL: Using the yt package to make particle plots ***\n",
    "\n",
    "Using Anaconda you can install YT on your computer. From the command line type:\n",
    "conda install yt\n",
    "\n",
    "You can then open an interactive notebook in your working directory (where your data files are located)\n",
    "yt notebook\n",
    "\n",
    "Which will give a message stating that it needs a password (give it any number) and it will also state : \"The notebook is now live at: http: blah\" Copy the URL into a web browser and it will open a Jupyter notebook that will access your working directory. Then proceed as normal with python script.\n",
    "\n",
    "YT DOCS: http://yt-project.org/docs/dev/visualizing/plots.html#particle-plots http://yt-project.org/doc/examining/generic_particle_data.html?highlight=loading%20generic%20data\n",
    "\n",
    "## *See the solutions for this lab for examples of how to use yt to make the same plots as above.*"
   ]
  },
  {
   "cell_type": "code",
   "execution_count": null,
   "metadata": {
    "collapsed": true
   },
   "outputs": [],
   "source": []
  }
 ],
 "metadata": {
  "kernelspec": {
   "display_name": "Python 2",
   "language": "python",
   "name": "python2"
  },
  "language_info": {
   "codemirror_mode": {
    "name": "ipython",
    "version": 2
   },
   "file_extension": ".py",
   "mimetype": "text/x-python",
   "name": "python",
   "nbconvert_exporter": "python",
   "pygments_lexer": "ipython2",
   "version": "2.7.13"
  }
 },
 "nbformat": 4,
 "nbformat_minor": 2
}
