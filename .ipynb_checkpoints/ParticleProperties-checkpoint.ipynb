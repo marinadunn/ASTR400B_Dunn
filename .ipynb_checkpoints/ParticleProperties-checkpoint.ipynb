{
 "cells": [
  {
   "cell_type": "code",
   "execution_count": 7,
   "metadata": {
    "collapsed": true
   },
   "outputs": [],
   "source": [
    "#Created by Marina M. Dunn on January 20, 2018\n",
    "##This program is designed to take in the particle type and \n",
    "#total number of particles from 'ReadFile' as inputs to calculate \n",
    "#the 3D distance and velocity, as well as mass, for any given \n",
    "#particle type (disk, halo, etc)."
   ]
  },
  {
   "cell_type": "code",
   "execution_count": 8,
   "metadata": {},
   "outputs": [],
   "source": [
    "#First, import Numpy and Astropy modules\n",
    "import numpy as np\n",
    "from ReadFile import Read"
   ]
  },
  {
   "cell_type": "code",
   "execution_count": 9,
   "metadata": {},
   "outputs": [
    {
     "ename": "SyntaxError",
     "evalue": "invalid syntax (<ipython-input-9-f9ba33eaae91>, line 1)",
     "output_type": "error",
     "traceback": [
      "\u001b[0;36m  File \u001b[0;32m\"<ipython-input-9-f9ba33eaae91>\"\u001b[0;36m, line \u001b[0;32m1\u001b[0m\n\u001b[0;31m    def ParticlePropertyInfo(p_type, p_num, filename)\u001b[0m\n\u001b[0m                                                     ^\u001b[0m\n\u001b[0;31mSyntaxError\u001b[0m\u001b[0;31m:\u001b[0m invalid syntax\n"
     ]
    }
   ],
   "source": [
    "def ParticlePropertyInfo(p_type, p_num, filename):\n",
    "#p_type refers to which particle we want, p_num is the partical number\n",
    "#filename is the file from which we are importing data, in this case, MW_000.txt\n",
    "\n",
    "    #This calls the function to read in these 3 data types\n",
    "    time, total_particles, data = read(filename)\n",
    "\n",
    "    #optional print statement to see if inputs were read in properly\n",
    "    print \"time in Gyr = \", time\n",
    "    print \"total number of particles = \", total_particles\n",
    "    \n",
    "    #We want to create an array that stores the index of particle types\n",
    "    index = np.where(data['type']==p_type)\n",
    "    \n",
    "    #Here we are assigning mass, position, and velocity for the Nth particle\n",
    "    m = data['m'][index]\n",
    "    xnew = data['x'][index]\n",
    "    ynew = data['y'][index]\n",
    "    znew = data['z'][index]\n",
    "    vxnew = data['vx'][index]\n",
    "    vynew = data['vy'][index]\n",
    "    vznew = data['vz'][index]\n",
    "    \n",
    "    #calculates the 3D distance and velocity\n",
    "    #For particle p_num, the array index is p_num -1\n",
    "    distance = np.sqrt(xnew*[p_num-1]**2 + ynew*[p_num-1]**2 + znew*[p_num-1]**2)\n",
    "    velocity = np.sqrt(vxnew*[p_num-1]**2 + vynew*[p_num-1]**2 + vznew*[p_num-1]**2)"
   ]
  },
  {
   "cell_type": "code",
   "execution_count": 10,
   "metadata": {},
   "outputs": [
    {
     "ename": "SyntaxError",
     "evalue": "invalid syntax (<ipython-input-10-3456751d71aa>, line 1)",
     "output_type": "error",
     "traceback": [
      "\u001b[0;36m  File \u001b[0;32m\"<ipython-input-10-3456751d71aa>\"\u001b[0;36m, line \u001b[0;32m1\u001b[0m\n\u001b[0;31m    print \"The 3D distance of the particle %s\", p_num, \"of type %s\", p_type \"in kpc is: \", np.around(distance,3)\u001b[0m\n\u001b[0m                                                                                        ^\u001b[0m\n\u001b[0;31mSyntaxError\u001b[0m\u001b[0;31m:\u001b[0m invalid syntax\n"
     ]
    }
   ],
   "source": [
    "print \"The 3D distance of the particle %s\", p_num, \"of type %s\", p_type \"in kpc is: \", np.around(distance,3)\n",
    "print \"The 3D velocity of the particle %s\", p_num, \"of type %s\", p_type \"in kpc is: \", np.around(velocity,3)\n",
    "print \"The mass of the particle %s\", pnum, \"of type\", p_type, \"in Solar Masses is:\", np.around(mnew[p_num-1]*1e10,3)"
   ]
  },
  {
   "cell_type": "code",
   "execution_count": 11,
   "metadata": {},
   "outputs": [
    {
     "ename": "NameError",
     "evalue": "name 'ParticlePropertyInfo' is not defined",
     "output_type": "error",
     "traceback": [
      "\u001b[0;31m---------------------------------------------------------------------------\u001b[0m",
      "\u001b[0;31mNameError\u001b[0m                                 Traceback (most recent call last)",
      "\u001b[0;32m<ipython-input-11-f83a8b3a1889>\u001b[0m in \u001b[0;36m<module>\u001b[0;34m()\u001b[0m\n\u001b[1;32m      1\u001b[0m \u001b[0;31m#Print information for the 100th disk particle with SnapNumber 0\u001b[0m\u001b[0;34m\u001b[0m\u001b[0;34m\u001b[0m\u001b[0m\n\u001b[0;32m----> 2\u001b[0;31m \u001b[0;32mprint\u001b[0m \u001b[0mParticlePropertyInfo\u001b[0m\u001b[0;34m(\u001b[0m\u001b[0;36m0\u001b[0m\u001b[0;34m,\u001b[0m\u001b[0;36m100\u001b[0m\u001b[0;34m,\u001b[0m\u001b[0mMW_000\u001b[0m\u001b[0;34m.\u001b[0m\u001b[0mtxt\u001b[0m\u001b[0;34m)\u001b[0m\u001b[0;34m\u001b[0m\u001b[0m\n\u001b[0m",
      "\u001b[0;31mNameError\u001b[0m: name 'ParticlePropertyInfo' is not defined"
     ]
    }
   ],
   "source": [
    "#Print information for the 100th disk particle with SnapNumber 0\n",
    "print ParticlePropertyInfo(0,100,MW_000.txt)"
   ]
  },
  {
   "cell_type": "code",
   "execution_count": null,
   "metadata": {
    "collapsed": true
   },
   "outputs": [],
   "source": []
  }
 ],
 "metadata": {
  "kernelspec": {
   "display_name": "Python 2",
   "language": "python",
   "name": "python2"
  }
 },
 "nbformat": 4,
 "nbformat_minor": 2
}
