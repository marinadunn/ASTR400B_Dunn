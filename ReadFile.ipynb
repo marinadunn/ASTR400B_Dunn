{
 "cells": [
  {
   "cell_type": "code",
   "execution_count": 61,
   "metadata": {
    "collapsed": true
   },
   "outputs": [],
   "source": [
    "#Created by Marina M. Dunn on January 16, 2018\n",
    "#This script reads in and returns the time elapsed, the total number of particles,\n",
    "#the particles' type and masses,and their velocities in the \n",
    "#x, y, and z directions"
   ]
  },
  {
   "cell_type": "code",
   "execution_count": 62,
   "metadata": {
    "collapsed": true
   },
   "outputs": [],
   "source": [
    "#First, import Numpy and Astropy modules\n",
    "import numpy as np\n",
    "import astropy.units as u"
   ]
  },
  {
   "cell_type": "code",
   "execution_count": 70,
   "metadata": {
    "scrolled": true
   },
   "outputs": [],
   "source": [
    "def Read(filename):\n",
    "\n",
    "    file = open(filename,'r') #opens the file\n",
    "\n",
    "    #Reads in first line of file, which is the time elapsed\n",
    "    line1 = file.readline()\n",
    "    label, value = line1.split()\n",
    "    time = float(value)*10.0*u.Myr\n",
    "    \n",
    "    #Reads in the second line of the file, which is the total number of particles\n",
    "    line2 = file.readline()\n",
    "    label, value = line2.split()\n",
    "    total_particles = float(value)*10.0*u.Myr\n",
    "    \n",
    "    file.close() #closes the file\n",
    "    \n",
    "    #We want to store the rest of the file in an array, \n",
    "    #but skip the first 3 lines of the file, which are separated by spaces\n",
    "    MW_array = np.genfromtxt(filename,dtype=None,names=True,skip_header=3)\n",
    "\n",
    "    #We want to get back the time, total number of particles, and entire data array\n",
    "    return time\n",
    "    return total_particles\n",
    "    return MW_array"
   ]
  },
  {
   "cell_type": "code",
   "execution_count": 71,
   "metadata": {
    "scrolled": true
   },
   "outputs": [],
   "source": [
    "filename = 'MW_000.txt'"
   ]
  },
  {
   "cell_type": "code",
   "execution_count": 72,
   "metadata": {
    "collapsed": true
   },
   "outputs": [],
   "source": [
    "#The program 'ParticleProperties' will use the particle type and \n",
    "#number from 'ReadFile' as inputs to calculate the 3D distance and \n",
    "#velocity, as well as mass, for any given particle type (disk, halo, etc)."
   ]
  }
 ],
 "metadata": {
  "kernelspec": {
   "display_name": "Python 2",
   "language": "python",
   "name": "python2"
  },
  "language_info": {
   "codemirror_mode": {
    "name": "ipython",
    "version": 2
   },
   "file_extension": ".py",
   "mimetype": "text/x-python",
   "name": "python",
   "nbconvert_exporter": "python",
   "pygments_lexer": "ipython2",
   "version": "2.7.13"
  }
 },
 "nbformat": 4,
 "nbformat_minor": 2
}
